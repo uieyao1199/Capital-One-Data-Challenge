{
 "cells": [
  {
   "cell_type": "code",
   "execution_count": 115,
   "metadata": {},
   "outputs": [],
   "source": [
    "import numpy as np\n",
    "import pandas as pd\n",
    "import random\n",
    "from itertools import product"
   ]
  },
  {
   "cell_type": "code",
   "execution_count": 116,
   "metadata": {},
   "outputs": [],
   "source": [
    "df=pd.read_csv('wr2.csv')"
   ]
  },
  {
   "cell_type": "code",
   "execution_count": 117,
   "metadata": {},
   "outputs": [],
   "source": [
    "def splitt(str):\n",
    "    return str.split('+')[-1]"
   ]
  },
  {
   "cell_type": "code",
   "execution_count": 118,
   "metadata": {
    "scrolled": true
   },
   "outputs": [
    {
     "data": {
      "text/html": [
       "<div>\n",
       "<style scoped>\n",
       "    .dataframe tbody tr th:only-of-type {\n",
       "        vertical-align: middle;\n",
       "    }\n",
       "\n",
       "    .dataframe tbody tr th {\n",
       "        vertical-align: top;\n",
       "    }\n",
       "\n",
       "    .dataframe thead th {\n",
       "        text-align: right;\n",
       "    }\n",
       "</style>\n",
       "<table border=\"1\" class=\"dataframe\">\n",
       "  <thead>\n",
       "    <tr style=\"text-align: right;\">\n",
       "      <th></th>\n",
       "      <th>ANSWER ID</th>\n",
       "      <th>METRIC NAME</th>\n",
       "      <th>COMPANY NAME</th>\n",
       "      <th>YEAR</th>\n",
       "      <th>VALUE</th>\n",
       "    </tr>\n",
       "  </thead>\n",
       "  <tbody>\n",
       "    <tr>\n",
       "      <th>0</th>\n",
       "      <td>2233010.0</td>\n",
       "      <td>Gross Profit</td>\n",
       "      <td>Danaher</td>\n",
       "      <td>2012</td>\n",
       "      <td>9414300000</td>\n",
       "    </tr>\n",
       "    <tr>\n",
       "      <th>1</th>\n",
       "      <td>2233013.0</td>\n",
       "      <td>Gross Profit</td>\n",
       "      <td>Danaher</td>\n",
       "      <td>2015</td>\n",
       "      <td>10762500000</td>\n",
       "    </tr>\n",
       "    <tr>\n",
       "      <th>2</th>\n",
       "      <td>2233016.0</td>\n",
       "      <td>Gross Profit</td>\n",
       "      <td>Danaher</td>\n",
       "      <td>2014</td>\n",
       "      <td>9892600000</td>\n",
       "    </tr>\n",
       "    <tr>\n",
       "      <th>3</th>\n",
       "      <td>2233001.0</td>\n",
       "      <td>Gross Profit</td>\n",
       "      <td>Danaher</td>\n",
       "      <td>2011</td>\n",
       "      <td>8176600000</td>\n",
       "    </tr>\n",
       "    <tr>\n",
       "      <th>4</th>\n",
       "      <td>2233004.0</td>\n",
       "      <td>Gross Profit</td>\n",
       "      <td>Danaher</td>\n",
       "      <td>2010</td>\n",
       "      <td>6404500000</td>\n",
       "    </tr>\n",
       "  </tbody>\n",
       "</table>\n",
       "</div>"
      ],
      "text/plain": [
       "   ANSWER ID   METRIC NAME COMPANY NAME  YEAR        VALUE\n",
       "0  2233010.0  Gross Profit      Danaher  2012   9414300000\n",
       "1  2233013.0  Gross Profit      Danaher  2015  10762500000\n",
       "2  2233016.0  Gross Profit      Danaher  2014   9892600000\n",
       "3  2233001.0  Gross Profit      Danaher  2011   8176600000\n",
       "4  2233004.0  Gross Profit      Danaher  2010   6404500000"
      ]
     },
     "execution_count": 118,
     "metadata": {},
     "output_type": "execute_result"
    }
   ],
   "source": [
    "df=pd.read_csv('wr2.csv')\n",
    "df[\"METRIC NAME\"]=df[\"METRIC NAME\"].apply(lambda x:splitt(x))\n",
    "df.to_csv('NEW_RATE.csv')\n",
    "df.head(5)"
   ]
  },
  {
   "cell_type": "code",
   "execution_count": 119,
   "metadata": {},
   "outputs": [],
   "source": [
    "def missing_value(df,year,company):\n",
    "    \n",
    "    #Get metric index table\n",
    "    METRIC_TABLE=df[['METRIC NAME']].drop_duplicates().sort_values(by='METRIC NAME').reset_index(drop=True)\n",
    "    METRIC_TABLE['METRIC ID']= pd.Categorical(METRIC_TABLE['METRIC NAME'].astype(str)).codes\n",
    "    #METRIC_TABLE.to_csv('Metric_index_tabel.csv',index=False)\n",
    "    \n",
    "    #Get company index table\n",
    "    COMPANY_TABLE=df[['COMPANY NAME']].drop_duplicates().sort_values(by='COMPANY NAME').reset_index(drop=True)\n",
    "    COMPANY_TABLE['COMPANY ID'] = pd.Categorical(COMPANY_TABLE['COMPANY NAME'].astype(str)).codes\n",
    "    ###------pseudo email address\n",
    "    COMPANY_TABLE['COMPANY EMAIL']=COMPANY_TABLE['COMPANY NAME'].apply(lambda x:'{}@gmail.com'.format(x.lower().replace(' ','')))\n",
    "    #COMPANY_TABLE.to_csv('Company_index_tabel.csv',index=False)\n",
    "    \n",
    "    #Get Survey Question Table\n",
    "    survey=df[['METRIC NAME']].drop_duplicates().reset_index(drop=True)\n",
    "    ###------pseudo survey questions\n",
    "    survey['SURVEY QUESTIONS']=survey['METRIC NAME'].apply(lambda x:'Do you have answer to {}? If yes, please specify; if no,please leave the question blank'.format(x))\n",
    "    #survey.to_csv('Survey_index_table.csv',index=False)\n",
    "    \n",
    "    #Generate new dataframe\n",
    "    full=pd.DataFrame(list(product([company], METRIC_TABLE['METRIC NAME'].unique(),[year])),\n",
    "                      columns=['COMPANY NAME','METRIC NAME','YEAR'])\n",
    "    \n",
    "    #merge with df for wanted info\n",
    "    full=full.merge(df.drop('ANSWER ID',1),on=['COMPANY NAME','METRIC NAME','YEAR'],how='left')\n",
    "    \n",
    "    #return only observations with missing values\n",
    "    selected=full[ ((full.VALUE.isnull()) | (full.VALUE == 'Unclear') | (full.VALUE == 'Unknown')) & (full.YEAR==year)\n",
    "                 & (full['COMPANY NAME']==company)]\n",
    "    selected=selected[['COMPANY NAME', 'YEAR','METRIC NAME']].sort_values(by=['COMPANY NAME', 'YEAR'])\n",
    "    \n",
    "    #Get survey questions for those missing value\n",
    "    selected=selected.merge(survey,on='METRIC NAME',how='left')\n",
    "    \n",
    "    #def questionid\n",
    "    def questionid(row):\n",
    "        company_id=COMPANY_TABLE.loc[COMPANY_TABLE['COMPANY NAME']==row['COMPANY NAME'],'COMPANY ID'].values[0]\n",
    "        metric_id=METRIC_TABLE.loc[METRIC_TABLE['METRIC NAME']==row['METRIC NAME'],'METRIC ID'].values[0]\n",
    "        year_id=row.YEAR\n",
    "        return int(str(year_id)+format(company_id,'04')+format(metric_id,'04'))\n",
    "    \n",
    "    #Generate questionid for each question\n",
    "    selected['QUESTIONID']=selected.apply(questionid,axis=1)\n",
    "    \n",
    "    return selected"
   ]
  },
  {
   "cell_type": "markdown",
   "metadata": {},
   "source": [
    "### Test"
   ]
  },
  {
   "cell_type": "code",
   "execution_count": 121,
   "metadata": {
    "scrolled": true
   },
   "outputs": [
    {
     "data": {
      "text/html": [
       "<div>\n",
       "<style scoped>\n",
       "    .dataframe tbody tr th:only-of-type {\n",
       "        vertical-align: middle;\n",
       "    }\n",
       "\n",
       "    .dataframe tbody tr th {\n",
       "        vertical-align: top;\n",
       "    }\n",
       "\n",
       "    .dataframe thead th {\n",
       "        text-align: right;\n",
       "    }\n",
       "</style>\n",
       "<table border=\"1\" class=\"dataframe\">\n",
       "  <thead>\n",
       "    <tr style=\"text-align: right;\">\n",
       "      <th></th>\n",
       "      <th>COMPANY NAME</th>\n",
       "      <th>YEAR</th>\n",
       "      <th>METRIC NAME</th>\n",
       "      <th>SURVEY QUESTIONS</th>\n",
       "      <th>QUESTIONID</th>\n",
       "    </tr>\n",
       "  </thead>\n",
       "  <tbody>\n",
       "    <tr>\n",
       "      <th>0</th>\n",
       "      <td>Danaher</td>\n",
       "      <td>2016</td>\n",
       "      <td>% CSPO Used</td>\n",
       "      <td>Do you have answer to % CSPO Used? If yes, ple...</td>\n",
       "      <td>201607530000</td>\n",
       "    </tr>\n",
       "    <tr>\n",
       "      <th>1</th>\n",
       "      <td>Danaher</td>\n",
       "      <td>2016</td>\n",
       "      <td>Absenteeism rate</td>\n",
       "      <td>Do you have answer to Absenteeism rate? If yes...</td>\n",
       "      <td>201607530001</td>\n",
       "    </tr>\n",
       "    <tr>\n",
       "      <th>2</th>\n",
       "      <td>Danaher</td>\n",
       "      <td>2016</td>\n",
       "      <td>Access to Childcare Services</td>\n",
       "      <td>Do you have answer to Access to Childcare Serv...</td>\n",
       "      <td>201607530002</td>\n",
       "    </tr>\n",
       "    <tr>\n",
       "      <th>3</th>\n",
       "      <td>Danaher</td>\n",
       "      <td>2016</td>\n",
       "      <td>Access to Healthcare for Non-work-related Inci...</td>\n",
       "      <td>Do you have answer to Access to Healthcare for...</td>\n",
       "      <td>201607530003</td>\n",
       "    </tr>\n",
       "    <tr>\n",
       "      <th>4</th>\n",
       "      <td>Danaher</td>\n",
       "      <td>2016</td>\n",
       "      <td>Access to Healthcare for Work-related Incidents</td>\n",
       "      <td>Do you have answer to Access to Healthcare for...</td>\n",
       "      <td>201607530004</td>\n",
       "    </tr>\n",
       "  </tbody>\n",
       "</table>\n",
       "</div>"
      ],
      "text/plain": [
       "  COMPANY NAME  YEAR                                        METRIC NAME  \\\n",
       "0      Danaher  2016                                        % CSPO Used   \n",
       "1      Danaher  2016                                   Absenteeism rate   \n",
       "2      Danaher  2016                       Access to Childcare Services   \n",
       "3      Danaher  2016  Access to Healthcare for Non-work-related Inci...   \n",
       "4      Danaher  2016    Access to Healthcare for Work-related Incidents   \n",
       "\n",
       "                                    SURVEY QUESTIONS    QUESTIONID  \n",
       "0  Do you have answer to % CSPO Used? If yes, ple...  201607530000  \n",
       "1  Do you have answer to Absenteeism rate? If yes...  201607530001  \n",
       "2  Do you have answer to Access to Childcare Serv...  201607530002  \n",
       "3  Do you have answer to Access to Healthcare for...  201607530003  \n",
       "4  Do you have answer to Access to Healthcare for...  201607530004  "
      ]
     },
     "execution_count": 121,
     "metadata": {},
     "output_type": "execute_result"
    }
   ],
   "source": [
    "table0=missing_value(df,2016,'Danaher')\n",
    "table0.head()"
   ]
  },
  {
   "cell_type": "code",
   "execution_count": null,
   "metadata": {},
   "outputs": [],
   "source": [
    "question1 = list(table0[\"SURVEY QUESTIONS\"])\n",
    "question0=[\"open_ended\"]\n",
    "questions_list=[[x,y] for x in question0 for y in question1]\n",
    "questions_list[0:5]"
   ]
  },
  {
   "cell_type": "code",
   "execution_count": 123,
   "metadata": {
    "collapsed": true
   },
   "outputs": [
    {
     "name": "stdout",
     "output_type": "stream",
     "text": [
      "survey id: 1016\n"
     ]
    },
    {
     "ename": "KeyError",
     "evalue": "'data'",
     "output_type": "error",
     "traceback": [
      "\u001b[1;31m---------------------------------------------------------------------------\u001b[0m",
      "\u001b[1;31mKeyError\u001b[0m                                  Traceback (most recent call last)",
      "\u001b[1;32m<ipython-input-123-75797699c25b>\u001b[0m in \u001b[0;36m<module>\u001b[1;34m\u001b[0m\n\u001b[0;32m     13\u001b[0m \u001b[0mdata\u001b[0m \u001b[1;33m=\u001b[0m \u001b[1;33m[\u001b[0m\u001b[1;33m[\u001b[0m\u001b[1;34m'dingrenjie12345@gmail.com'\u001b[0m\u001b[1;33m,\u001b[0m\u001b[1;34m'Renjie'\u001b[0m\u001b[1;33m,\u001b[0m\u001b[1;34m'Ding'\u001b[0m\u001b[1;33m]\u001b[0m\u001b[1;33m,\u001b[0m\u001b[1;33m[\u001b[0m\u001b[1;34m'yuanz15@wfu.edu'\u001b[0m\u001b[1;33m,\u001b[0m\u001b[1;34m'Y'\u001b[0m\u001b[1;33m,\u001b[0m\u001b[1;34m'C'\u001b[0m\u001b[1;33m]\u001b[0m\u001b[1;33m]\u001b[0m\u001b[1;33m\u001b[0m\u001b[1;33m\u001b[0m\u001b[0m\n\u001b[0;32m     14\u001b[0m \u001b[0mrecipients_df\u001b[0m \u001b[1;33m=\u001b[0m \u001b[0mpd\u001b[0m\u001b[1;33m.\u001b[0m\u001b[0mDataFrame\u001b[0m\u001b[1;33m(\u001b[0m\u001b[0mdata\u001b[0m\u001b[1;33m,\u001b[0m \u001b[0mcolumns\u001b[0m\u001b[1;33m=\u001b[0m\u001b[1;33m[\u001b[0m\u001b[1;34m\"email\"\u001b[0m\u001b[1;33m,\u001b[0m \u001b[1;34m\"first_name\"\u001b[0m\u001b[1;33m,\u001b[0m \u001b[1;34m\"last_name\"\u001b[0m\u001b[1;33m]\u001b[0m\u001b[1;33m)\u001b[0m\u001b[1;33m\u001b[0m\u001b[1;33m\u001b[0m\u001b[0m\n\u001b[1;32m---> 15\u001b[1;33m \u001b[0mresults0\u001b[0m\u001b[1;33m=\u001b[0m\u001b[0mprocess\u001b[0m\u001b[1;33m(\u001b[0m\u001b[0msurvey_title\u001b[0m\u001b[1;33m,\u001b[0m \u001b[0mquestions_list\u001b[0m\u001b[1;33m,\u001b[0m \u001b[0mrecipients_df\u001b[0m\u001b[1;33m)\u001b[0m\u001b[1;33m\u001b[0m\u001b[1;33m\u001b[0m\u001b[0m\n\u001b[0m\u001b[0;32m     16\u001b[0m \u001b[1;31m#print(results0)\u001b[0m\u001b[1;33m\u001b[0m\u001b[1;33m\u001b[0m\u001b[1;33m\u001b[0m\u001b[0m\n",
      "\u001b[1;32m<ipython-input-122-b402747e67e4>\u001b[0m in \u001b[0;36mprocess\u001b[1;34m(survey_title, questions_list, recipients_df)\u001b[0m\n\u001b[0;32m     25\u001b[0m     \u001b[1;31m# 3. Get a page (first)\u001b[0m\u001b[1;33m\u001b[0m\u001b[1;33m\u001b[0m\u001b[1;33m\u001b[0m\u001b[0m\n\u001b[0;32m     26\u001b[0m     \u001b[1;31m# call create_page to create more pages\u001b[0m\u001b[1;33m\u001b[0m\u001b[1;33m\u001b[0m\u001b[1;33m\u001b[0m\u001b[0m\n\u001b[1;32m---> 27\u001b[1;33m     \u001b[0mpage_id\u001b[0m \u001b[1;33m=\u001b[0m \u001b[0mget_page\u001b[0m\u001b[1;33m(\u001b[0m\u001b[0mclient\u001b[0m\u001b[1;33m,\u001b[0m \u001b[0msurvey_id\u001b[0m\u001b[1;33m)\u001b[0m\u001b[1;33m\u001b[0m\u001b[1;33m\u001b[0m\u001b[0m\n\u001b[0m\u001b[0;32m     28\u001b[0m     \u001b[0mprint\u001b[0m\u001b[1;33m(\u001b[0m\u001b[1;34m\"page id: %s\"\u001b[0m \u001b[1;33m%\u001b[0m \u001b[0mpage_id\u001b[0m\u001b[1;33m)\u001b[0m\u001b[1;33m\u001b[0m\u001b[1;33m\u001b[0m\u001b[0m\n\u001b[0;32m     29\u001b[0m \u001b[1;33m\u001b[0m\u001b[0m\n",
      "\u001b[1;32m<ipython-input-122-b402747e67e4>\u001b[0m in \u001b[0;36mget_page\u001b[1;34m(client, survey_id)\u001b[0m\n\u001b[0;32m    104\u001b[0m     \u001b[0mpage\u001b[0m \u001b[1;33m=\u001b[0m \u001b[0mclient\u001b[0m\u001b[1;33m.\u001b[0m\u001b[0mget\u001b[0m\u001b[1;33m(\u001b[0m\u001b[0murl\u001b[0m\u001b[1;33m,\u001b[0m \u001b[0mjson\u001b[0m\u001b[1;33m=\u001b[0m\u001b[0mpayload\u001b[0m\u001b[1;33m)\u001b[0m\u001b[1;33m\u001b[0m\u001b[1;33m\u001b[0m\u001b[0m\n\u001b[0;32m    105\u001b[0m     \u001b[1;31m# first page id\u001b[0m\u001b[1;33m\u001b[0m\u001b[1;33m\u001b[0m\u001b[1;33m\u001b[0m\u001b[0m\n\u001b[1;32m--> 106\u001b[1;33m     \u001b[0mpage_id\u001b[0m \u001b[1;33m=\u001b[0m \u001b[0mpage\u001b[0m\u001b[1;33m.\u001b[0m\u001b[0mjson\u001b[0m\u001b[1;33m(\u001b[0m\u001b[1;33m)\u001b[0m\u001b[1;33m[\u001b[0m\u001b[1;34m'data'\u001b[0m\u001b[1;33m]\u001b[0m\u001b[1;33m[\u001b[0m\u001b[1;36m0\u001b[0m\u001b[1;33m]\u001b[0m\u001b[1;33m[\u001b[0m\u001b[1;34m'id'\u001b[0m\u001b[1;33m]\u001b[0m\u001b[1;33m\u001b[0m\u001b[1;33m\u001b[0m\u001b[0m\n\u001b[0m\u001b[0;32m    107\u001b[0m     \u001b[1;32mreturn\u001b[0m \u001b[0mpage_id\u001b[0m\u001b[1;33m\u001b[0m\u001b[1;33m\u001b[0m\u001b[0m\n\u001b[0;32m    108\u001b[0m \u001b[1;33m\u001b[0m\u001b[0m\n",
      "\u001b[1;31mKeyError\u001b[0m: 'data'"
     ]
    }
   ],
   "source": [
    "survey_title = 'Test Survey'\n",
    "data = [['dingrenjie12345@gmail.com','Renjie','Ding'],['yuanz15@wfu.edu','Y','C']]\n",
    "recipients_df = pd.DataFrame(data, columns=[\"email\", \"first_name\", \"last_name\"])\n",
    "\n",
    "results0=process(survey_title, questions_list, recipients_df)\n",
    "print(results0)"
   ]
  },
  {
   "cell_type": "code",
   "execution_count": null,
   "metadata": {},
   "outputs": [],
   "source": [
    "result_answer=after_survey(results0)"
   ]
  },
  {
   "cell_type": "code",
   "execution_count": 54,
   "metadata": {
    "scrolled": true
   },
   "outputs": [
    {
     "name": "stdout",
     "output_type": "stream",
     "text": [
      "['157587069', '10201416351', '216378077', '2018-09-06T21:52:21+00:00', '2018-09-06T21:53:02+00:00', '144.121.68.19', 'dingrenjie12345@gmail.com', 'Renjie', 'Ding', '80', 'yes', '987542', '75', '98', '87', '95', '56']\n",
      "['80', 'yes', '987542', '75', '98', '87', '95', '56']\n"
     ]
    }
   ],
   "source": [
    "new_table=pd.DataFrame()\n",
    "new_question=[]\n",
    "new_answer=[]\n",
    "\n",
    "for i in range(8):\n",
    "    new_question.append(table0[\"SURVEY QUESTIONS\"][i])\n",
    "for i in result_answer[0]:\n",
    "    new_answer.append(result_answer[0][i])\n",
    "print(new_answer)\n",
    "new_answer=new_answer[len(new_answer)-8:]\n",
    "print(new_answer)\n",
    "\n",
    "new_table[\"Company\"]=list([\"Danaher\",\"Danaher\",\"Danaher\",\"Danaher\",\"Danaher\",\"Danaher\",\"Danaher\",\"Danaher\"])\n",
    "new_table[\"Question\"]=new_question\n",
    "new_table[\"Answer\"]=new_answer"
   ]
  }
 ],
 "metadata": {
  "kernelspec": {
   "display_name": "Python 3",
   "language": "python",
   "name": "python3"
  },
  "language_info": {
   "codemirror_mode": {
    "name": "ipython",
    "version": 3
   },
   "file_extension": ".py",
   "mimetype": "text/x-python",
   "name": "python",
   "nbconvert_exporter": "python",
   "pygments_lexer": "ipython3",
   "version": "3.7.3"
  }
 },
 "nbformat": 4,
 "nbformat_minor": 2
}
