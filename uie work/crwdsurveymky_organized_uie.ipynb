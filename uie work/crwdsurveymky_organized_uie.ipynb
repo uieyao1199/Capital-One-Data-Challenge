{
 "cells": [
  {
   "cell_type": "markdown",
   "metadata": {},
   "source": [
    "# Project: CRWD Survey Monkey (organized)\n",
    "## Object: organizate work from Zhehui Yuan & Yihao\n",
    "### Author: <font color ='blue'>Xiaojun Yao (Uie)"
   ]
  },
  {
   "cell_type": "markdown",
   "metadata": {},
   "source": [
    "### <font color='red'> Main Change: \n",
    "\n",
    "Recode the after_survey fuction() and create a result_table() function."
   ]
  },
  {
   "cell_type": "markdown",
   "metadata": {},
   "source": [
    "# <font color='blue'> Import Packages"
   ]
  },
  {
   "cell_type": "code",
   "execution_count": 1,
   "metadata": {},
   "outputs": [],
   "source": [
    "#import surveymonty\n",
    "import requests\n",
    "import json\n",
    "import random\n",
    "from itertools import product\n",
    "\n",
    "import time\n",
    "import datetime\n",
    "\n",
    "import pandas as pd\n",
    "import numpy as np"
   ]
  },
  {
   "cell_type": "markdown",
   "metadata": {},
   "source": [
    "#### <font color='red'> most important packages <font color='black'>(includes all the functions): process_functions.py"
   ]
  },
  {
   "cell_type": "code",
   "execution_count": 2,
   "metadata": {},
   "outputs": [],
   "source": [
    "from process_functions import *"
   ]
  },
  {
   "cell_type": "markdown",
   "metadata": {},
   "source": [
    "# <font color='blue'> 0.0 Import & Translate Dataset"
   ]
  },
  {
   "cell_type": "code",
   "execution_count": 2,
   "metadata": {},
   "outputs": [],
   "source": [
    "df=pd.read_csv('wr2.csv')"
   ]
  },
  {
   "cell_type": "code",
   "execution_count": 3,
   "metadata": {},
   "outputs": [],
   "source": [
    "def splitt(str):\n",
    "    return str.split('+')[-1]"
   ]
  },
  {
   "cell_type": "code",
   "execution_count": 4,
   "metadata": {
    "scrolled": true
   },
   "outputs": [
    {
     "data": {
      "text/html": [
       "<div>\n",
       "<style scoped>\n",
       "    .dataframe tbody tr th:only-of-type {\n",
       "        vertical-align: middle;\n",
       "    }\n",
       "\n",
       "    .dataframe tbody tr th {\n",
       "        vertical-align: top;\n",
       "    }\n",
       "\n",
       "    .dataframe thead th {\n",
       "        text-align: right;\n",
       "    }\n",
       "</style>\n",
       "<table border=\"1\" class=\"dataframe\">\n",
       "  <thead>\n",
       "    <tr style=\"text-align: right;\">\n",
       "      <th></th>\n",
       "      <th>ANSWER ID</th>\n",
       "      <th>METRIC NAME</th>\n",
       "      <th>COMPANY NAME</th>\n",
       "      <th>YEAR</th>\n",
       "      <th>VALUE</th>\n",
       "    </tr>\n",
       "  </thead>\n",
       "  <tbody>\n",
       "    <tr>\n",
       "      <th>0</th>\n",
       "      <td>2233010.0</td>\n",
       "      <td>Gross Profit</td>\n",
       "      <td>Danaher</td>\n",
       "      <td>2012</td>\n",
       "      <td>9414300000</td>\n",
       "    </tr>\n",
       "    <tr>\n",
       "      <th>1</th>\n",
       "      <td>2233013.0</td>\n",
       "      <td>Gross Profit</td>\n",
       "      <td>Danaher</td>\n",
       "      <td>2015</td>\n",
       "      <td>10762500000</td>\n",
       "    </tr>\n",
       "    <tr>\n",
       "      <th>2</th>\n",
       "      <td>2233016.0</td>\n",
       "      <td>Gross Profit</td>\n",
       "      <td>Danaher</td>\n",
       "      <td>2014</td>\n",
       "      <td>9892600000</td>\n",
       "    </tr>\n",
       "    <tr>\n",
       "      <th>3</th>\n",
       "      <td>2233001.0</td>\n",
       "      <td>Gross Profit</td>\n",
       "      <td>Danaher</td>\n",
       "      <td>2011</td>\n",
       "      <td>8176600000</td>\n",
       "    </tr>\n",
       "    <tr>\n",
       "      <th>4</th>\n",
       "      <td>2233004.0</td>\n",
       "      <td>Gross Profit</td>\n",
       "      <td>Danaher</td>\n",
       "      <td>2010</td>\n",
       "      <td>6404500000</td>\n",
       "    </tr>\n",
       "  </tbody>\n",
       "</table>\n",
       "</div>"
      ],
      "text/plain": [
       "   ANSWER ID   METRIC NAME COMPANY NAME  YEAR        VALUE\n",
       "0  2233010.0  Gross Profit      Danaher  2012   9414300000\n",
       "1  2233013.0  Gross Profit      Danaher  2015  10762500000\n",
       "2  2233016.0  Gross Profit      Danaher  2014   9892600000\n",
       "3  2233001.0  Gross Profit      Danaher  2011   8176600000\n",
       "4  2233004.0  Gross Profit      Danaher  2010   6404500000"
      ]
     },
     "execution_count": 4,
     "metadata": {},
     "output_type": "execute_result"
    }
   ],
   "source": [
    "df=pd.read_csv('wr2.csv')\n",
    "df[\"METRIC NAME\"]=df[\"METRIC NAME\"].apply(lambda x:splitt(x))\n",
    "df.to_csv('NEW_RATE.csv')\n",
    "df.head(5)"
   ]
  },
  {
   "cell_type": "markdown",
   "metadata": {},
   "source": [
    "# <font color='blue'>1.0 Test (only sending 5 questions out)"
   ]
  },
  {
   "cell_type": "code",
   "execution_count": 8,
   "metadata": {
    "scrolled": true
   },
   "outputs": [
    {
     "data": {
      "text/html": [
       "<div>\n",
       "<style scoped>\n",
       "    .dataframe tbody tr th:only-of-type {\n",
       "        vertical-align: middle;\n",
       "    }\n",
       "\n",
       "    .dataframe tbody tr th {\n",
       "        vertical-align: top;\n",
       "    }\n",
       "\n",
       "    .dataframe thead th {\n",
       "        text-align: right;\n",
       "    }\n",
       "</style>\n",
       "<table border=\"1\" class=\"dataframe\">\n",
       "  <thead>\n",
       "    <tr style=\"text-align: right;\">\n",
       "      <th></th>\n",
       "      <th>COMPANY NAME</th>\n",
       "      <th>YEAR</th>\n",
       "      <th>METRIC NAME</th>\n",
       "      <th>SURVEY QUESTIONS</th>\n",
       "      <th>QUESTIONID</th>\n",
       "    </tr>\n",
       "  </thead>\n",
       "  <tbody>\n",
       "    <tr>\n",
       "      <th>0</th>\n",
       "      <td>Danaher</td>\n",
       "      <td>2016</td>\n",
       "      <td>% CSPO Used</td>\n",
       "      <td>Do you have answer to % CSPO Used? If yes, ple...</td>\n",
       "      <td>201607530000</td>\n",
       "    </tr>\n",
       "    <tr>\n",
       "      <th>1</th>\n",
       "      <td>Danaher</td>\n",
       "      <td>2016</td>\n",
       "      <td>Absenteeism rate</td>\n",
       "      <td>Do you have answer to Absenteeism rate? If yes...</td>\n",
       "      <td>201607530001</td>\n",
       "    </tr>\n",
       "    <tr>\n",
       "      <th>2</th>\n",
       "      <td>Danaher</td>\n",
       "      <td>2016</td>\n",
       "      <td>Access to Childcare Services</td>\n",
       "      <td>Do you have answer to Access to Childcare Serv...</td>\n",
       "      <td>201607530002</td>\n",
       "    </tr>\n",
       "    <tr>\n",
       "      <th>3</th>\n",
       "      <td>Danaher</td>\n",
       "      <td>2016</td>\n",
       "      <td>Access to Healthcare for Non-work-related Inci...</td>\n",
       "      <td>Do you have answer to Access to Healthcare for...</td>\n",
       "      <td>201607530003</td>\n",
       "    </tr>\n",
       "    <tr>\n",
       "      <th>4</th>\n",
       "      <td>Danaher</td>\n",
       "      <td>2016</td>\n",
       "      <td>Access to Healthcare for Work-related Incidents</td>\n",
       "      <td>Do you have answer to Access to Healthcare for...</td>\n",
       "      <td>201607530004</td>\n",
       "    </tr>\n",
       "  </tbody>\n",
       "</table>\n",
       "</div>"
      ],
      "text/plain": [
       "  COMPANY NAME  YEAR                                        METRIC NAME  \\\n",
       "0      Danaher  2016                                        % CSPO Used   \n",
       "1      Danaher  2016                                   Absenteeism rate   \n",
       "2      Danaher  2016                       Access to Childcare Services   \n",
       "3      Danaher  2016  Access to Healthcare for Non-work-related Inci...   \n",
       "4      Danaher  2016    Access to Healthcare for Work-related Incidents   \n",
       "\n",
       "                                    SURVEY QUESTIONS    QUESTIONID  \n",
       "0  Do you have answer to % CSPO Used? If yes, ple...  201607530000  \n",
       "1  Do you have answer to Absenteeism rate? If yes...  201607530001  \n",
       "2  Do you have answer to Access to Childcare Serv...  201607530002  \n",
       "3  Do you have answer to Access to Healthcare for...  201607530003  \n",
       "4  Do you have answer to Access to Healthcare for...  201607530004  "
      ]
     },
     "execution_count": 8,
     "metadata": {},
     "output_type": "execute_result"
    }
   ],
   "source": [
    "table0=missing_value_en(df,2016,'Danaher')\n",
    "table0.head()"
   ]
  },
  {
   "cell_type": "code",
   "execution_count": 9,
   "metadata": {},
   "outputs": [],
   "source": [
    "question1 = list(table0[\"SURVEY QUESTIONS\"])\n",
    "question0=[\"open_ended\"]\n",
    "questions_list=[[x,y] for x in question0 for y in question1]\n",
    "testing_question = questions_list[0:5]"
   ]
  },
  {
   "cell_type": "code",
   "execution_count": 10,
   "metadata": {},
   "outputs": [
    {
     "name": "stdout",
     "output_type": "stream",
     "text": [
      "survey id: 182714655\n",
      "page id: 85102438\n",
      "question id: 309735928\n",
      "question id: 309735930\n",
      "question id: 309735944\n",
      "question id: 309735949\n",
      "question id: 309735954\n",
      "collector id: 240633199\n",
      "message id: 63025041\n"
     ]
    }
   ],
   "source": [
    "survey_title = 'Test Survey'\n",
    "data = [['uieyao1199@gmail.com','Uie','Yao'],['ohnoyeahjin1199@hotmail.com','X','Yao']]\n",
    "recipients_df = pd.DataFrame(data, columns=[\"email\", \"first_name\", \"last_name\"])\n",
    "\n",
    "testing_results=process(survey_title, testing_question, recipients_df)"
   ]
  },
  {
   "cell_type": "code",
   "execution_count": 15,
   "metadata": {},
   "outputs": [
    {
     "data": {
      "text/html": [
       "<div>\n",
       "<style scoped>\n",
       "    .dataframe tbody tr th:only-of-type {\n",
       "        vertical-align: middle;\n",
       "    }\n",
       "\n",
       "    .dataframe tbody tr th {\n",
       "        vertical-align: top;\n",
       "    }\n",
       "\n",
       "    .dataframe thead th {\n",
       "        text-align: right;\n",
       "    }\n",
       "</style>\n",
       "<table border=\"1\" class=\"dataframe\">\n",
       "  <thead>\n",
       "    <tr style=\"text-align: right;\">\n",
       "      <th></th>\n",
       "      <th>Do you have answer to % CSPO Used? If yes, please specify; if no,please leave the question blank</th>\n",
       "      <th>Do you have answer to Access to Childcare Services? If yes, please specify; if no,please leave the question blank</th>\n",
       "      <th>Do you have answer to Absenteeism rate? If yes, please specify; if no,please leave the question blank</th>\n",
       "      <th>Do you have answer to Access to Healthcare for Non-work-related Incidents? If yes, please specify; if no,please leave the question blank</th>\n",
       "      <th>Do you have answer to Access to Childcare Services? If yes, please specify; if no,please leave the question blank</th>\n",
       "      <th>Do you have answer to Access to Healthcare for Work-related Incidents? If yes, please specify; if no,please leave the question blank</th>\n",
       "      <th>collector_id</th>\n",
       "      <th>date_created</th>\n",
       "      <th>date_modified</th>\n",
       "      <th>email_address</th>\n",
       "      <th>first_name</th>\n",
       "      <th>id</th>\n",
       "      <th>ip_address</th>\n",
       "      <th>last_name</th>\n",
       "      <th>survey_id</th>\n",
       "    </tr>\n",
       "  </thead>\n",
       "  <tbody>\n",
       "    <tr>\n",
       "      <th>Renjie_Ding_response</th>\n",
       "      <td>gmail</td>\n",
       "      <td>NaN</td>\n",
       "      <td>gmail</td>\n",
       "      <td>NaN</td>\n",
       "      <td>gmail</td>\n",
       "      <td>NaN</td>\n",
       "      <td>240633199</td>\n",
       "      <td>2019-07-09T19:12:18+00:00</td>\n",
       "      <td>2019-07-09T19:12:37+00:00</td>\n",
       "      <td>uieyao1199@gmail.com</td>\n",
       "      <td>Renjie</td>\n",
       "      <td>10848913908</td>\n",
       "      <td>4.35.91.70</td>\n",
       "      <td>Ding</td>\n",
       "      <td>182714655</td>\n",
       "    </tr>\n",
       "    <tr>\n",
       "      <th>X_Yao_response</th>\n",
       "      <td>NaN</td>\n",
       "      <td>hotmail</td>\n",
       "      <td>NaN</td>\n",
       "      <td>hotmail</td>\n",
       "      <td>NaN</td>\n",
       "      <td>hotmail</td>\n",
       "      <td>240633199</td>\n",
       "      <td>2019-07-09T19:16:35+00:00</td>\n",
       "      <td>2019-07-09T19:16:59+00:00</td>\n",
       "      <td>ohnoyeahjin1199@hotmail.com</td>\n",
       "      <td>X</td>\n",
       "      <td>10848923746</td>\n",
       "      <td>4.35.91.70</td>\n",
       "      <td>Yao</td>\n",
       "      <td>182714655</td>\n",
       "    </tr>\n",
       "  </tbody>\n",
       "</table>\n",
       "</div>"
      ],
      "text/plain": [
       "                     Do you have answer to % CSPO Used? If yes, please specify; if no,please leave the question blank  \\\n",
       "Renjie_Ding_response                                              gmail                                                 \n",
       "X_Yao_response                                                      NaN                                                 \n",
       "\n",
       "                     Do you have answer to Access to Childcare Services? If yes, please specify; if no,please leave the question blank  \\\n",
       "Renjie_Ding_response                                                NaN                                                                  \n",
       "X_Yao_response                                                  hotmail                                                                  \n",
       "\n",
       "                     Do you have answer to Absenteeism rate? If yes, please specify; if no,please leave the question blank  \\\n",
       "Renjie_Ding_response                                              gmail                                                      \n",
       "X_Yao_response                                                      NaN                                                      \n",
       "\n",
       "                     Do you have answer to Access to Healthcare for Non-work-related Incidents? If yes, please specify; if no,please leave the question blank  \\\n",
       "Renjie_Ding_response                                                NaN                                                                                         \n",
       "X_Yao_response                                                  hotmail                                                                                         \n",
       "\n",
       "                     Do you have answer to Access to Childcare Services? If yes, please specify; if no,please leave the question blank  \\\n",
       "Renjie_Ding_response                                              gmail                                                                  \n",
       "X_Yao_response                                                      NaN                                                                  \n",
       "\n",
       "                     Do you have answer to Access to Healthcare for Work-related Incidents? If yes, please specify; if no,please leave the question blank  \\\n",
       "Renjie_Ding_response                                                NaN                                                                                     \n",
       "X_Yao_response                                                  hotmail                                                                                     \n",
       "\n",
       "                     collector_id               date_created  \\\n",
       "Renjie_Ding_response    240633199  2019-07-09T19:12:18+00:00   \n",
       "X_Yao_response          240633199  2019-07-09T19:16:35+00:00   \n",
       "\n",
       "                                  date_modified                email_address  \\\n",
       "Renjie_Ding_response  2019-07-09T19:12:37+00:00         uieyao1199@gmail.com   \n",
       "X_Yao_response        2019-07-09T19:16:59+00:00  ohnoyeahjin1199@hotmail.com   \n",
       "\n",
       "                     first_name           id  ip_address last_name  survey_id  \n",
       "Renjie_Ding_response     Renjie  10848913908  4.35.91.70      Ding  182714655  \n",
       "X_Yao_response                X  10848923746  4.35.91.70       Yao  182714655  "
      ]
     },
     "execution_count": 15,
     "metadata": {},
     "output_type": "execute_result"
    }
   ],
   "source": [
    "result_answer=after_survey(testing_results)\n",
    "result_answer"
   ]
  },
  {
   "cell_type": "code",
   "execution_count": 83,
   "metadata": {
    "scrolled": true
   },
   "outputs": [
    {
     "data": {
      "text/html": [
       "<div>\n",
       "<style scoped>\n",
       "    .dataframe tbody tr th:only-of-type {\n",
       "        vertical-align: middle;\n",
       "    }\n",
       "\n",
       "    .dataframe tbody tr th {\n",
       "        vertical-align: top;\n",
       "    }\n",
       "\n",
       "    .dataframe thead th {\n",
       "        text-align: right;\n",
       "    }\n",
       "</style>\n",
       "<table border=\"1\" class=\"dataframe\">\n",
       "  <thead>\n",
       "    <tr style=\"text-align: right;\">\n",
       "      <th></th>\n",
       "      <th>SURVEY QUESTIONS</th>\n",
       "      <th>COMPANY NAME</th>\n",
       "      <th>YEAR</th>\n",
       "      <th>Renjie_Ding_response</th>\n",
       "      <th>X_Yao_response</th>\n",
       "    </tr>\n",
       "  </thead>\n",
       "  <tbody>\n",
       "    <tr>\n",
       "      <th>0</th>\n",
       "      <td>Do you have answer to % CSPO Used? If yes, ple...</td>\n",
       "      <td>Danaher</td>\n",
       "      <td>2016</td>\n",
       "      <td>gmail</td>\n",
       "      <td>NaN</td>\n",
       "    </tr>\n",
       "    <tr>\n",
       "      <th>1</th>\n",
       "      <td>Do you have answer to Absenteeism rate? If yes...</td>\n",
       "      <td>Danaher</td>\n",
       "      <td>2016</td>\n",
       "      <td>gmail</td>\n",
       "      <td>NaN</td>\n",
       "    </tr>\n",
       "    <tr>\n",
       "      <th>2</th>\n",
       "      <td>Do you have answer to Access to Childcare Serv...</td>\n",
       "      <td>Danaher</td>\n",
       "      <td>2016</td>\n",
       "      <td>gmail</td>\n",
       "      <td>hotmail</td>\n",
       "    </tr>\n",
       "    <tr>\n",
       "      <th>3</th>\n",
       "      <td>Do you have answer to Access to Healthcare for...</td>\n",
       "      <td>Danaher</td>\n",
       "      <td>2016</td>\n",
       "      <td>NaN</td>\n",
       "      <td>hotmail</td>\n",
       "    </tr>\n",
       "    <tr>\n",
       "      <th>4</th>\n",
       "      <td>Do you have answer to Access to Healthcare for...</td>\n",
       "      <td>Danaher</td>\n",
       "      <td>2016</td>\n",
       "      <td>NaN</td>\n",
       "      <td>hotmail</td>\n",
       "    </tr>\n",
       "  </tbody>\n",
       "</table>\n",
       "</div>"
      ],
      "text/plain": [
       "                                    SURVEY QUESTIONS COMPANY NAME  YEAR  \\\n",
       "0  Do you have answer to % CSPO Used? If yes, ple...      Danaher  2016   \n",
       "1  Do you have answer to Absenteeism rate? If yes...      Danaher  2016   \n",
       "2  Do you have answer to Access to Childcare Serv...      Danaher  2016   \n",
       "3  Do you have answer to Access to Healthcare for...      Danaher  2016   \n",
       "4  Do you have answer to Access to Healthcare for...      Danaher  2016   \n",
       "\n",
       "  Renjie_Ding_response X_Yao_response  \n",
       "0                gmail            NaN  \n",
       "1                gmail            NaN  \n",
       "2                gmail        hotmail  \n",
       "3                  NaN        hotmail  \n",
       "4                  NaN        hotmail  "
      ]
     },
     "execution_count": 83,
     "metadata": {},
     "output_type": "execute_result"
    }
   ],
   "source": [
    "result_table = result_table(table0, result_answer, testing_question)\n",
    "result_table"
   ]
  }
 ],
 "metadata": {
  "kernelspec": {
   "display_name": "Python 3",
   "language": "python",
   "name": "python3"
  },
  "language_info": {
   "codemirror_mode": {
    "name": "ipython",
    "version": 3
   },
   "file_extension": ".py",
   "mimetype": "text/x-python",
   "name": "python",
   "nbconvert_exporter": "python",
   "pygments_lexer": "ipython3",
   "version": "3.7.3"
  }
 },
 "nbformat": 4,
 "nbformat_minor": 2
}
